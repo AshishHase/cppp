{
  "nbformat": 4,
  "nbformat_minor": 0,
  "metadata": {
    "colab": {
      "name": "Day6_AshishHase.ipynb",
      "provenance": [],
      "collapsed_sections": [],
      "authorship_tag": "ABX9TyMevCAQbVPAzczZt3rOq/s5",
      "include_colab_link": true
    },
    "kernelspec": {
      "name": "python3",
      "display_name": "Python 3"
    }
  },
  "cells": [
    {
      "cell_type": "markdown",
      "metadata": {
        "id": "view-in-github",
        "colab_type": "text"
      },
      "source": [
        "<a href=\"https://colab.research.google.com/github/AshishHase/cppp/blob/master/Day6_AshishHase.ipynb\" target=\"_parent\"><img src=\"https://colab.research.google.com/assets/colab-badge.svg\" alt=\"Open In Colab\"/></a>"
      ]
    },
    {
      "cell_type": "markdown",
      "metadata": {
        "id": "3wlnqQLgDLNr",
        "colab_type": "text"
      },
      "source": [
        "##Ashish Hase Day 6 Python Assignment"
      ]
    },
    {
      "cell_type": "markdown",
      "metadata": {
        "id": "fBCpF2tKIDEL",
        "colab_type": "text"
      },
      "source": [
        "Q1) **Write a program to implement dictionary and its function**"
      ]
    },
    {
      "cell_type": "code",
      "metadata": {
        "id": "FOCXiFEDIYQ7",
        "colab_type": "code",
        "colab": {
          "base_uri": "https://localhost:8080/",
          "height": 168
        },
        "outputId": "f84c49fd-e1bf-4ee7-a975-23df3df9ade3"
      },
      "source": [
        "a = {\"Ashish\":95, \"Amol\":65, \"Anuraj\":69, \"Anamol\":98}  #Iplementation of dictonary\n",
        "print(a)\n",
        "for i in a.values():\n",
        "  print(i)\n",
        "for i,j in a.items():\n",
        "  print(i,j)\n",
        "\n"
      ],
      "execution_count": 29,
      "outputs": [
        {
          "output_type": "stream",
          "text": [
            "{'Ashish': 95, 'Amol': 65, 'Anuraj': 69, 'Anamol': 98}\n",
            "95\n",
            "65\n",
            "69\n",
            "98\n",
            "Ashish 95\n",
            "Amol 65\n",
            "Anuraj 69\n",
            "Anamol 98\n"
          ],
          "name": "stdout"
        }
      ]
    },
    {
      "cell_type": "code",
      "metadata": {
        "id": "GuOswPi5LOkR",
        "colab_type": "code",
        "colab": {
          "base_uri": "https://localhost:8080/",
          "height": 151
        },
        "outputId": "cefd4708-ea76-4f03-f7b4-a9fef9befb00"
      },
      "source": [
        "#Implementation of dictonary functions\n",
        "b = {\"Raina\":6687, \"Kohali\":5558, \"Rohit\":5489, \"Dhoni\":4996,\"Dinesh\":3555}\n",
        "a = {\"Ashish\":95, \"Amol\":65, \"Anuraj\":69, \"Anamol\":98} \n",
        "print(b.get('Raina'))  #implementation of get function\n",
        "b.update(a)             #Implementation of update function\n",
        "print(b)\n",
        "del b[\"Dinesh\"]           #Implementation  of delete function\n",
        "print(b)\n",
        "c = {\"amd\":58,\"ase\":65,\"rty\":58,\"pop\":58}\n",
        "c.clear()                 #Implementation of clear function\n",
        "print(c)\n",
        "b.items()\n",
        "print(b)   \n",
        "print(a.keys())    #implementation of keys function\n",
        "a.pop(\"Amol\")        #Implementation of pop function\n",
        "print(a)\n",
        "a.popitem()            #Implementation of popitem function\n",
        "print(a) \n",
        "\n"
      ],
      "execution_count": null,
      "outputs": [
        {
          "output_type": "stream",
          "text": [
            "6687\n",
            "{'Raina': 6687, 'Kohali': 5558, 'Rohit': 5489, 'Dhoni': 4996, 'Dinesh': 3555, 'Ashish': 95, 'Amol': 65, 'Anuraj': 69, 'Anamol': 98}\n",
            "{'Raina': 6687, 'Kohali': 5558, 'Rohit': 5489, 'Dhoni': 4996, 'Ashish': 95, 'Amol': 65, 'Anuraj': 69, 'Anamol': 98}\n",
            "{}\n",
            "{'Raina': 6687, 'Kohali': 5558, 'Rohit': 5489, 'Dhoni': 4996, 'Ashish': 95, 'Amol': 65, 'Anuraj': 69, 'Anamol': 98}\n",
            "dict_keys(['Ashish', 'Amol', 'Anuraj', 'Anamol'])\n",
            "{'Ashish': 95, 'Anuraj': 69, 'Anamol': 98}\n",
            "{'Ashish': 95, 'Anuraj': 69}\n"
          ],
          "name": "stdout"
        }
      ]
    },
    {
      "cell_type": "markdown",
      "metadata": {
        "id": "rh_I6hqzETpp",
        "colab_type": "text"
      },
      "source": [
        "Q2)**Write a program using lambda function which print fibonacci series**"
      ]
    },
    {
      "cell_type": "code",
      "metadata": {
        "id": "RwPftTpPEzQf",
        "colab_type": "code",
        "colab": {
          "base_uri": "https://localhost:8080/",
          "height": 286
        },
        "outputId": "4224e1b0-4688-4c73-d438-f6292e0fe1bf"
      },
      "source": [
        "a = int(input(\"Enter The Number\"))\n",
        "fib = lambda n:n if n<=1 else fib(n-1)+fib(n-2)\n",
        "for i in range(a):\n",
        "  print(fib(i))"
      ],
      "execution_count": null,
      "outputs": [
        {
          "output_type": "stream",
          "text": [
            "Enter The Number15\n",
            "0\n",
            "1\n",
            "1\n",
            "2\n",
            "3\n",
            "5\n",
            "8\n",
            "13\n",
            "21\n",
            "34\n",
            "55\n",
            "89\n",
            "144\n",
            "233\n",
            "377\n"
          ],
          "name": "stdout"
        }
      ]
    },
    {
      "cell_type": "markdown",
      "metadata": {
        "id": "SiAD2anTGNXB",
        "colab_type": "text"
      },
      "source": [
        "Q3)**Write a program to calculate the average of first 10 natural number using function**"
      ]
    },
    {
      "cell_type": "code",
      "metadata": {
        "id": "euwJTtviGgND",
        "colab_type": "code",
        "colab": {
          "base_uri": "https://localhost:8080/",
          "height": 50
        },
        "outputId": "7667fb34-aa7c-496b-bb39-864ecf84f0d6"
      },
      "source": [
        "total = 0\n",
        "for i in range(1,11):  #i am consider the first 10 natural num starting from 1 to 10\n",
        "  total=total+i\n",
        "avg = total/10\n",
        "print(\"The Sum Of First 10 Natural number is=\", total)\n",
        "print(\"Average of first 10 natural number is=\", avg)"
      ],
      "execution_count": null,
      "outputs": [
        {
          "output_type": "stream",
          "text": [
            "The Sum Of First 10 Natural number is= 55\n",
            "Average of first 10 natural number is= 5.5\n"
          ],
          "name": "stdout"
        }
      ]
    }
  ]
}