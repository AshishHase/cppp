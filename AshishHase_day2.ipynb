{
  "nbformat": 4,
  "nbformat_minor": 0,
  "metadata": {
    "colab": {
      "name": "AshishHase_day2.ipynb",
      "provenance": [],
      "collapsed_sections": [],
      "authorship_tag": "ABX9TyPbsb9W6ANyvmAbb38bALo0",
      "include_colab_link": true
    },
    "kernelspec": {
      "name": "python3",
      "display_name": "Python 3"
    }
  },
  "cells": [
    {
      "cell_type": "markdown",
      "metadata": {
        "id": "view-in-github",
        "colab_type": "text"
      },
      "source": [
        "<a href=\"https://colab.research.google.com/github/AshishHase/cppp/blob/master/AshishHase_day2.ipynb\" target=\"_parent\"><img src=\"https://colab.research.google.com/assets/colab-badge.svg\" alt=\"Open In Colab\"/></a>"
      ]
    },
    {
      "cell_type": "markdown",
      "metadata": {
        "id": "9dO7YfRGBCLP",
        "colab_type": "text"
      },
      "source": [
        "##Ashish Hase Day 2 Assignment \n"
      ]
    },
    {
      "cell_type": "code",
      "metadata": {
        "id": "Ks8dtZvoBOm1",
        "colab_type": "code",
        "colab": {}
      },
      "source": [
        "Q1) Write a code to print three line where \n",
        "    a) The First Line Contain Sum of Two Number\n",
        "    b) The second line contain the difference of two number\n",
        "    c) The third line contain product of two number."
      ],
      "execution_count": null,
      "outputs": []
    },
    {
      "cell_type": "code",
      "metadata": {
        "id": "HX3HwSXhB1fg",
        "colab_type": "code",
        "colab": {}
      },
      "source": [
        "x = int(input(\"Enter First Number\"))\n",
        "y = int(input(\"Enter second number\"))\n",
        "z = x+y\n",
        "print(\"The Result Of Addition is\", z) \n",
        "a = x-y\n",
        "print(\"The Result Of Difference is\", a)\n",
        "b = x*y\n",
        "print(\"The Result of Product is\", b)"
      ],
      "execution_count": null,
      "outputs": []
    },
    {
      "cell_type": "markdown",
      "metadata": {
        "id": "lBYkNRRqDE3E",
        "colab_type": "text"
      },
      "source": [
        "Q2) **Write a code for find the sum of a 4-digit number given by user**"
      ]
    },
    {
      "cell_type": "code",
      "metadata": {
        "id": "XNkk3kFiDu0m",
        "colab_type": "code",
        "colab": {
          "base_uri": "https://localhost:8080/",
          "height": 50
        },
        "outputId": "5c526a2d-ef29-4a24-dead-722f36d9b242"
      },
      "source": [
        "n = int(input(\"Enter Four digit number\"))\n",
        "a = n%10\n",
        "n = n//10\n",
        "b = n%10\n",
        "n = n//10\n",
        "c = n%10\n",
        "n = n//10\n",
        "print(a+b+c+n)"
      ],
      "execution_count": null,
      "outputs": [
        {
          "output_type": "stream",
          "text": [
            "Enter Four digit number7853\n",
            "23\n"
          ],
          "name": "stdout"
        }
      ]
    }
  ]
}