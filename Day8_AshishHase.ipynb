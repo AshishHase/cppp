{
  "nbformat": 4,
  "nbformat_minor": 0,
  "metadata": {
    "colab": {
      "name": "Day8_AshishHase.ipynb",
      "provenance": [],
      "collapsed_sections": [],
      "authorship_tag": "ABX9TyNeKAkdSNObKYZRDvA6Qoi9",
      "include_colab_link": true
    },
    "kernelspec": {
      "name": "python3",
      "display_name": "Python 3"
    }
  },
  "cells": [
    {
      "cell_type": "markdown",
      "metadata": {
        "id": "view-in-github",
        "colab_type": "text"
      },
      "source": [
        "<a href=\"https://colab.research.google.com/github/AshishHase/cppp/blob/master/Day8_AshishHase.ipynb\" target=\"_parent\"><img src=\"https://colab.research.google.com/assets/colab-badge.svg\" alt=\"Open In Colab\"/></a>"
      ]
    },
    {
      "cell_type": "markdown",
      "metadata": {
        "id": "-43h5-LQ69LF",
        "colab_type": "text"
      },
      "source": [
        "##Ashish Hase Python Day 8 Assignment"
      ]
    },
    {
      "cell_type": "markdown",
      "metadata": {
        "id": "1X9UzbkO7Gr0",
        "colab_type": "text"
      },
      "source": [
        "Q1)**Write a Program to check what will Happen With Finally block When..**\n",
        "   **(a) Default exception handling mechanism executed ?**\n",
        "   **(b) User Defined  exception handling mechanism executed ?**"
      ]
    },
    {
      "cell_type": "code",
      "metadata": {
        "id": "i__OTike8B_9",
        "colab_type": "code",
        "colab": {
          "base_uri": "https://localhost:8080/",
          "height": 246
        },
        "outputId": "ac7f2f9c-8557-4276-b8c9-de2a4a0b3ee0"
      },
      "source": [
        "#Evaluation of finally block when default  exception handling mechanism executed..\n",
        "a = 15\n",
        "b = \"ashish\"\n",
        "try:\n",
        "  print(a+b)\n",
        "except:\n",
        "  print(\"Error Is Occured\")\n",
        "finally:            #Evaluation of finally block when default  exception handling mechanism executed\n",
        "  print(2/0)       \n",
        "  print(\"welcome\")\n",
        "  "
      ],
      "execution_count": 7,
      "outputs": [
        {
          "output_type": "stream",
          "text": [
            "Error Is Occured\n"
          ],
          "name": "stdout"
        },
        {
          "output_type": "error",
          "ename": "ZeroDivisionError",
          "evalue": "ignored",
          "traceback": [
            "\u001b[0;31m---------------------------------------------------------------------------\u001b[0m",
            "\u001b[0;31mZeroDivisionError\u001b[0m                         Traceback (most recent call last)",
            "\u001b[0;32m<ipython-input-7-e05a895c0ad0>\u001b[0m in \u001b[0;36m<module>\u001b[0;34m()\u001b[0m\n\u001b[1;32m      7\u001b[0m   \u001b[0mprint\u001b[0m\u001b[0;34m(\u001b[0m\u001b[0;34m\"Error Is Occured\"\u001b[0m\u001b[0;34m)\u001b[0m\u001b[0;34m\u001b[0m\u001b[0;34m\u001b[0m\u001b[0m\n\u001b[1;32m      8\u001b[0m \u001b[0;32mfinally\u001b[0m\u001b[0;34m:\u001b[0m\u001b[0;34m\u001b[0m\u001b[0;34m\u001b[0m\u001b[0m\n\u001b[0;32m----> 9\u001b[0;31m   \u001b[0mprint\u001b[0m\u001b[0;34m(\u001b[0m\u001b[0;36m2\u001b[0m\u001b[0;34m/\u001b[0m\u001b[0;36m0\u001b[0m\u001b[0;34m)\u001b[0m\u001b[0;34m\u001b[0m\u001b[0;34m\u001b[0m\u001b[0m\n\u001b[0m\u001b[1;32m     10\u001b[0m   \u001b[0mprint\u001b[0m\u001b[0;34m(\u001b[0m\u001b[0;34m\"welcome\"\u001b[0m\u001b[0;34m)\u001b[0m\u001b[0;34m\u001b[0m\u001b[0;34m\u001b[0m\u001b[0m\n\u001b[1;32m     11\u001b[0m \u001b[0;34m\u001b[0m\u001b[0m\n",
            "\u001b[0;31mZeroDivisionError\u001b[0m: division by zero"
          ]
        }
      ]
    },
    {
      "cell_type": "code",
      "metadata": {
        "id": "ybx_wFX4_bAO",
        "colab_type": "code",
        "colab": {
          "base_uri": "https://localhost:8080/",
          "height": 50
        },
        "outputId": "a7493a35-0835-4555-87f3-e9639f062eb5"
      },
      "source": [
        "#Evaluation of finally block when User Defined  exception handling mechanism executed\n",
        "a = 25\n",
        "b = 0\n",
        "try:\n",
        "  c = a/b\n",
        "  print(\"div is=\", c)\n",
        "except:\n",
        "  print(\"Divide by zero erroe occured\")\n",
        "finally:\n",
        "  print(\"Welcome,Happy Learning\")"
      ],
      "execution_count": 8,
      "outputs": [
        {
          "output_type": "stream",
          "text": [
            "Divide by zero erroe occured\n",
            "Welcome,Happy Learning\n"
          ],
          "name": "stdout"
        }
      ]
    },
    {
      "cell_type": "markdown",
      "metadata": {
        "id": "KBmeFdhlACl8",
        "colab_type": "text"
      },
      "source": [
        "Q2)**Write a program to show the file is readable or writable**"
      ]
    },
    {
      "cell_type": "code",
      "metadata": {
        "id": "odhD9j_kAP2u",
        "colab_type": "code",
        "colab": {
          "base_uri": "https://localhost:8080/",
          "height": 67
        },
        "outputId": "81cd656a-690c-44f2-db52-c2d8659174a2"
      },
      "source": [
        "#For Checking Write mode\n",
        "f = open(\"Ashish.txt\", 'w')\n",
        "print(f.mode)      #For Checking Write mode\n",
        "f.close()\n",
        "\n",
        "#For Checking Read Mode\n",
        "f = open(\"Ashish.txt\",\"r\")\n",
        "print(f.mode)\n",
        "f.close()\n",
        "\n",
        "#for checking name of file\n",
        "f =open(\"Ashish.txt\")\n",
        "print(f.name)\n",
        "f.close()"
      ],
      "execution_count": 20,
      "outputs": [
        {
          "output_type": "stream",
          "text": [
            "w\n",
            "r\n",
            "Ashish.txt\n"
          ],
          "name": "stdout"
        }
      ]
    },
    {
      "cell_type": "markdown",
      "metadata": {
        "id": "0H4saD1wCtTK",
        "colab_type": "text"
      },
      "source": [
        "Q3)**Write a program to show what is file handling**"
      ]
    },
    {
      "cell_type": "code",
      "metadata": {
        "id": "XKQ3aQziC3K8",
        "colab_type": "code",
        "colab": {
          "base_uri": "https://localhost:8080/",
          "height": 118
        },
        "outputId": "151261ea-f4a3-4266-d5c8-ecda00cd30e3"
      },
      "source": [
        "#Opening new file and closing the currnt file\n",
        "a = open(\"hase.txt\", 'w')   #opening a new file\n",
        "a.close()                    #closing the file\n",
        "\n",
        "#Different modes of file\n",
        "a = open(\"hase.txt\", \"w\")         #open file in write mode\n",
        "print(a.mode)                     \n",
        "a = open(\"hase.txt\", \"r\")            #open file in read mode\n",
        "print(a.mode)                         \n",
        "a = open(\"hase.txt\", \"a\")               #open file in append mode\n",
        "print(a.mode)\n",
        "a = open(\"hase.txt\", \"w+\")                  #open file in write and read mode\n",
        "print(a.mode)\n",
        "a.close()\n",
        "\n",
        "#Write data on file\n",
        "a =open(\"hase.txt\", \"w\")\n",
        "b = \"Hi,its me ashish hase from Maharashtra\"\n",
        "a.write(b)\n",
        "f.close()\n",
        "\n",
        "#Read Data From file\n",
        "a = open(\"hase.txt\", \"r\")\n",
        "c = a.read()\n",
        "print(c)\n",
        "f.close()\n",
        "\n",
        "#append or add data on file\n",
        "a = open(\"hase.txt\", \"a\")\n",
        "x = \"Im in TE it in sinhgad academy of engineering kondwa,pune\"\n",
        "a.write(x)\n",
        "a.close()\n",
        "\n",
        "#Read that updated data n file\n",
        "a = open(\"hase.txt\",  \"r\")\n",
        "d = a.read()\n",
        "print(d)\n"
      ],
      "execution_count": 29,
      "outputs": [
        {
          "output_type": "stream",
          "text": [
            "w\n",
            "r\n",
            "a\n",
            "w+\n",
            "Hi,its me ashish hase from Maharashtra\n",
            "Hi,its me ashish hase from MaharashtraIm in TE it in sinhgad academy of engineering kondwa,pune\n"
          ],
          "name": "stdout"
        }
      ]
    }
  ]
}