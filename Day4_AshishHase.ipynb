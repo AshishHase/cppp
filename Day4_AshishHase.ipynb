{
  "nbformat": 4,
  "nbformat_minor": 0,
  "metadata": {
    "colab": {
      "name": "Day4_AshishHase.ipynb",
      "provenance": [],
      "collapsed_sections": [],
      "authorship_tag": "ABX9TyNuOf7n5Cks3H3IzQhj/jqQ",
      "include_colab_link": true
    },
    "kernelspec": {
      "name": "python3",
      "display_name": "Python 3"
    }
  },
  "cells": [
    {
      "cell_type": "markdown",
      "metadata": {
        "id": "view-in-github",
        "colab_type": "text"
      },
      "source": [
        "<a href=\"https://colab.research.google.com/github/AshishHase/cppp/blob/master/Day4_AshishHase.ipynb\" target=\"_parent\"><img src=\"https://colab.research.google.com/assets/colab-badge.svg\" alt=\"Open In Colab\"/></a>"
      ]
    },
    {
      "cell_type": "markdown",
      "metadata": {
        "id": "xGseaB0K_dZF",
        "colab_type": "text"
      },
      "source": [
        "##Day 4 Python Assignment Ashish Hase"
      ]
    },
    {
      "cell_type": "markdown",
      "metadata": {
        "id": "kKOc6xb9_ofK",
        "colab_type": "text"
      },
      "source": [
        "Q1) **Write a Program To Implement All Control Statment**"
      ]
    },
    {
      "cell_type": "code",
      "metadata": {
        "id": "0_WpVt_Z_3vX",
        "colab_type": "code",
        "colab": {}
      },
      "source": [
        "#Evaluation Of Decision Control Statment\n",
        "\n",
        "# 1)Evaluation Of if else \n",
        "x = int(input(\"Enter The First Number\"))\n",
        "y = int(input(\"Enter The Second Number\"))\n",
        "if x>y:\n",
        "  print(\"The Grater Number Is=\", x)\n",
        "else:\n",
        "  print(\"The Grater Number Is=\", y)"
      ],
      "execution_count": null,
      "outputs": []
    },
    {
      "cell_type": "code",
      "metadata": {
        "id": "xmQ6xmt3BQds",
        "colab_type": "code",
        "colab": {
          "base_uri": "https://localhost:8080/",
          "height": 84
        },
        "outputId": "c5e53219-509e-436c-e89a-2223de782b35"
      },
      "source": [
        "# 2)Evaluation of elif statment\n",
        "a = int(input(\"Enter the first number\\t\"))\n",
        "b = int(input(\"Enter the Second number\\t\"))\n",
        "c = int(input(\"Enter the Third number\\t\"))\n",
        "if a>b and a>c:\n",
        "  print(\"The Grater Number Is=\", a)\n",
        "elif b>a and b>c:\n",
        "  print(\"The Grater Number Is=\", b)\n",
        "else:\n",
        "  print(\"The Grater Number Is=\", c)"
      ],
      "execution_count": null,
      "outputs": [
        {
          "output_type": "stream",
          "text": [
            "Enter the first number\t50\n",
            "Enter the Second number\t96\n",
            "Enter the Third number\t45\n",
            "The Grater Number Is= 96\n"
          ],
          "name": "stdout"
        }
      ]
    },
    {
      "cell_type": "code",
      "metadata": {
        "id": "xZ-fBiqfCNii",
        "colab_type": "code",
        "colab": {}
      },
      "source": [
        "#Evaluation Of Loop Control Statment\n",
        "\n",
        "# 1) While Loop\n",
        "i=1\n",
        "n=3\n",
        "while(i<=10):\n",
        "  print(i*n)\n",
        "  i+=1\n",
        "\n",
        "# 2) Fro Loop\n",
        "n=2\n",
        "for i in range(1,11):\n",
        "  print(i*n) "
      ],
      "execution_count": null,
      "outputs": []
    },
    {
      "cell_type": "code",
      "metadata": {
        "id": "jS7mbyMsDLFb",
        "colab_type": "code",
        "colab": {
          "base_uri": "https://localhost:8080/",
          "height": 84
        },
        "outputId": "1961492f-e56c-481d-f9ef-58b1235af1e3"
      },
      "source": [
        "#Evaluation Of Transfer Control Statment\n",
        "\n",
        "# 1) Continue Statment\n",
        "\n",
        "for i in range(1,6):\n",
        "  if i==3:\n",
        "    continue\n",
        "  print(i)\n",
        "\n",
        "    \n",
        "    \n"
      ],
      "execution_count": null,
      "outputs": [
        {
          "output_type": "stream",
          "text": [
            "1\n",
            "2\n",
            "4\n",
            "5\n"
          ],
          "name": "stdout"
        }
      ]
    },
    {
      "cell_type": "code",
      "metadata": {
        "id": "IDa0ygaGGhWD",
        "colab_type": "code",
        "colab": {}
      },
      "source": [
        "\n",
        "# 2) Break Statment\n",
        "\n",
        "for i in range(1,11):\n",
        "  if i==6:\n",
        "    break\n",
        "  print(i)\n",
        "  "
      ],
      "execution_count": null,
      "outputs": []
    },
    {
      "cell_type": "markdown",
      "metadata": {
        "id": "yXkxCCVKG5Sk",
        "colab_type": "text"
      },
      "source": [
        "Q2) **Write a Program To Implement All string Handling Function**"
      ]
    },
    {
      "cell_type": "code",
      "metadata": {
        "id": "tauknUSKHNCs",
        "colab_type": "code",
        "colab": {
          "base_uri": "https://localhost:8080/",
          "height": 202
        },
        "outputId": "b5ff2f1a-9daa-4ab3-dc0e-4efcba6cd331"
      },
      "source": [
        "x =input(\"Enter a string\\t\")\n",
        "print(len(x))\n",
        "y = \"AshishHase\"\n",
        "print(y.split('i'))\n",
        "print(y.startswith(\"Ash\"))\n",
        "print(y.startswith(\"bch\"))\n",
        "print(y.endswith(\"se\"))\n",
        "print(y.endswith(\"sh\"))\n",
        "print(y.index('i'))\n",
        "print(y.upper())\n",
        "print(y.lower())"
      ],
      "execution_count": null,
      "outputs": [
        {
          "output_type": "stream",
          "text": [
            "Enter a string\tghhh\n",
            "4\n",
            "['Ash', 'shHase']\n",
            "True\n",
            "False\n",
            "True\n",
            "False\n",
            "3\n",
            "ASHISHHASE\n",
            "ashishhase\n",
            "1\n"
          ],
          "name": "stdout"
        }
      ]
    },
    {
      "cell_type": "markdown",
      "metadata": {
        "id": "WxlAjCRFJ4D2",
        "colab_type": "text"
      },
      "source": [
        "Q3) **Write A Program To Implement Following Pattren**\n",
        "                        *\n",
        "                      *   *\n",
        "                      *    *\n",
        "                      *    *"
      ]
    },
    {
      "cell_type": "code",
      "metadata": {
        "id": "9S4GOKzTKTyE",
        "colab_type": "code",
        "colab": {
          "base_uri": "https://localhost:8080/",
          "height": 84
        },
        "outputId": "0c8a9de4-5415-4154-91ca-86c174bf8929"
      },
      "source": [
        "for i in range(1,3):\n",
        "    print(\" +\" *i)\n",
        "print(\" + \" *i)\n",
        "print(\" + \" *i)\n",
        "  #Sry sir i am not understand the logic inverse v  pattern prg so i can do this  program"
      ],
      "execution_count": null,
      "outputs": [
        {
          "output_type": "stream",
          "text": [
            " +\n",
            " + +\n",
            " +  + \n",
            " +  + \n"
          ],
          "name": "stdout"
        }
      ]
    }
  ]
}