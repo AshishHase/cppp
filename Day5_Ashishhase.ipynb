{
  "nbformat": 4,
  "nbformat_minor": 0,
  "metadata": {
    "colab": {
      "name": "Day5_Ashishhase.ipynb",
      "provenance": [],
      "collapsed_sections": [],
      "authorship_tag": "ABX9TyOi/gyEdbr3URRRAIsRjnXi",
      "include_colab_link": true
    },
    "kernelspec": {
      "name": "python3",
      "display_name": "Python 3"
    }
  },
  "cells": [
    {
      "cell_type": "markdown",
      "metadata": {
        "id": "view-in-github",
        "colab_type": "text"
      },
      "source": [
        "<a href=\"https://colab.research.google.com/github/AshishHase/cppp/blob/master/Day5_Ashishhase.ipynb\" target=\"_parent\"><img src=\"https://colab.research.google.com/assets/colab-badge.svg\" alt=\"Open In Colab\"/></a>"
      ]
    },
    {
      "cell_type": "markdown",
      "metadata": {
        "id": "O7aKWIFP7Gcj",
        "colab_type": "text"
      },
      "source": [
        "##Day 5 Python Assignment Ashish Hase"
      ]
    },
    {
      "cell_type": "markdown",
      "metadata": {
        "id": "ROJkgDhy7MQu",
        "colab_type": "text"
      },
      "source": [
        "Q1) **Write a program to implement all list handling function**"
      ]
    },
    {
      "cell_type": "code",
      "metadata": {
        "id": "D48DZB3s7U9w",
        "colab_type": "code",
        "colab": {
          "base_uri": "https://localhost:8080/"
        },
        "outputId": "7ae8bbc7-1d7d-4b87-e128-3a08c327d140"
      },
      "source": [
        "a =[5,89,4,58,89,22,45,2,47,22,22]\n",
        "print(max(a))   #Evaluation of Max Function Of the list:\n",
        "print(min(a))    #Evaluation of Min Function Of the list:\n",
        "print(sum(a))     #Evaluation of sum Function Of the list:\n",
        "print(len(a))      #Evaluation of len Function Of the list:\n",
        "print(a.count(22))   #Evaluation of count Function Of the list:\n",
        "print(a.index(89))     #Evaluation of index Function Of the list:\n",
        "a.sort()                 #Evaluation of sort Function Of the list:\n",
        "print(a)\n"
      ],
      "execution_count": null,
      "outputs": [
        {
          "output_type": "stream",
          "text": [
            "89\n",
            "2\n",
            "405\n",
            "11\n",
            "3\n",
            "1\n",
            "[2, 4, 5, 22, 22, 22, 45, 47, 58, 89, 89]\n"
          ],
          "name": "stdout"
        }
      ]
    },
    {
      "cell_type": "code",
      "metadata": {
        "id": "oA7FHpZz8XqQ",
        "colab_type": "code",
        "colab": {
          "base_uri": "https://localhost:8080/"
        },
        "outputId": "33c01137-2705-420c-c19e-13c035c59e8c"
      },
      "source": [
        "#Some Other Function Of List\n",
        "b=[\"techox\",\"ashish\",83,69,47,0.2,True]\n",
        "print(b)  \n",
        "b.clear()  #Evaluation of Clear Function Of the list:\n",
        "print(b)"
      ],
      "execution_count": null,
      "outputs": [
        {
          "output_type": "stream",
          "text": [
            "['techox', 'ashish', 83, 69, 47, 0.2, True]\n",
            "[]\n"
          ],
          "name": "stdout"
        }
      ]
    },
    {
      "cell_type": "code",
      "metadata": {
        "id": "jkjKLpRi8wMz",
        "colab_type": "code",
        "colab": {
          "base_uri": "https://localhost:8080/"
        },
        "outputId": "076699b2-8853-4b57-d510-84d0ff4c38bb"
      },
      "source": [
        "#Some other function of list\n",
        "c=[\"techox\",\"ashish\",83,69,47,0.2,True]\n",
        "c.append(\"Amol\")  #Evaluation of append Function Of the list:\n",
        "print(c)\n",
        "c.insert(2,\"hase\")    #Evaluation of Insert Function Of the list:\n",
        "print(c) \n",
        "c.pop()                  #Evaluation of pop Function Of the list:\n",
        "print(c)\n",
        "c.reverse()                  #Evaluation of reverse Function Of the list:\n",
        "print(c)"
      ],
      "execution_count": null,
      "outputs": [
        {
          "output_type": "stream",
          "text": [
            "['techox', 'ashish', 83, 69, 47, 0.2, True, 'Amol']\n",
            "['techox', 'ashish', 'hase', 83, 69, 47, 0.2, True, 'Amol']\n",
            "['techox', 'ashish', 'hase', 83, 69, 47, 0.2, True]\n",
            "[True, 0.2, 47, 69, 83, 'hase', 'ashish', 'techox']\n"
          ],
          "name": "stdout"
        }
      ]
    },
    {
      "cell_type": "markdown",
      "metadata": {
        "id": "A-hnq_QV9kUI",
        "colab_type": "text"
      },
      "source": [
        "Q2)**Write a program to implement all set handling function**"
      ]
    },
    {
      "cell_type": "code",
      "metadata": {
        "id": "LCkA-_wf9wng",
        "colab_type": "code",
        "colab": {
          "base_uri": "https://localhost:8080/"
        },
        "outputId": "eaa3bc35-8a73-4bfa-f94a-d3bc8f75b899"
      },
      "source": [
        "b ={1,52,48,36,77.47,1,25}\n",
        "print(b)\n",
        "print(len(b))  #Evaluation of len Function Of the set:\n",
        "print(max(b))    #Evaluation of Max Function Of the set:\n",
        "print(min(b))      #Evaluation of Min Function Of the set:\n",
        "print(sum(b))         #Evaluation of sum Function Of the set:\n",
        "b.add(45)               #Evaluation of add Function Of the set:\n",
        "print(b)\n",
        "b.discard(45)                #Evaluation of discard Function Of the set:\n",
        "print(b)\n",
        "b.pop()                       #Evaluation of pop Function Of the set:\n",
        "print(b)\n"
      ],
      "execution_count": null,
      "outputs": [
        {
          "output_type": "stream",
          "text": [
            "{1, 36, 77.47, 48, 52, 25}\n",
            "6\n",
            "77.47\n",
            "1\n",
            "239.47\n",
            "{1, 36, 77.47, 45, 48, 52, 25}\n",
            "{1, 36, 77.47, 48, 52, 25}\n",
            "{36, 77.47, 48, 52, 25}\n"
          ],
          "name": "stdout"
        }
      ]
    },
    {
      "cell_type": "code",
      "metadata": {
        "id": "CyJSLH8p--s-",
        "colab_type": "code",
        "colab": {
          "base_uri": "https://localhost:8080/",
          "height": 67
        },
        "outputId": "58a3e4e2-f598-482f-d11f-c57204b54f40"
      },
      "source": [
        "a={1,45,89,47,23,58,47}\n",
        "b={1,65,8,25,47,89,47}\n",
        "a.union(b)              #Evaluation of union Function Of the set:\n",
        "print(a)                  \n",
        "a.intersection(b)           #Evaluation of intersction Function Of the set:          \n",
        "print(a)\n",
        "a.issubset(b)                   #Evaluation of issubset Function Of the set:\n"
      ],
      "execution_count": null,
      "outputs": [
        {
          "output_type": "stream",
          "text": [
            "{1, 45, 47, 23, 89, 58}\n",
            "{1, 45, 47, 23, 89, 58}\n"
          ],
          "name": "stdout"
        },
        {
          "output_type": "execute_result",
          "data": {
            "text/plain": [
              "False"
            ]
          },
          "metadata": {
            "tags": []
          },
          "execution_count": 57
        }
      ]
    },
    {
      "cell_type": "code",
      "metadata": {
        "id": "oB2WYBt4_rqc",
        "colab_type": "code",
        "colab": {
          "base_uri": "https://localhost:8080/"
        },
        "outputId": "18eb4ce3-3e55-4e42-b807-e30ba2e39f1a"
      },
      "source": [
        "d={1,8,78,9}\n",
        "d.clear()\n",
        "print(d)\n",
        "x={1,58,89,65,78,654}\n",
        "print(x)\n",
        "x.remove(58)\n",
        "print(x)\n",
        "x.add(68)\n",
        "print(x)"
      ],
      "execution_count": null,
      "outputs": [
        {
          "output_type": "stream",
          "text": [
            "set()\n",
            "{1, 65, 78, 654, 89, 58}\n",
            "{1, 65, 78, 654, 89}\n",
            "{1, 65, 68, 78, 654, 89}\n"
          ],
          "name": "stdout"
        }
      ]
    },
    {
      "cell_type": "markdown",
      "metadata": {
        "id": "YQtAY2zxAsk7",
        "colab_type": "text"
      },
      "source": [
        "Q3)**Write a program to find Second Largest Number Of the List**"
      ]
    },
    {
      "cell_type": "code",
      "metadata": {
        "id": "iqouLfOHA3FY",
        "colab_type": "code",
        "colab": {
          "base_uri": "https://localhost:8080/"
        },
        "outputId": "bd21eb94-f477-40dc-fa71-9f86b56794e9"
      },
      "source": [
        "z =[25,78,479,2365,47,21,47,500,14]\n",
        "z.sort()\n",
        "print(\"After The Sorting The List Is=\", z)\n",
        "print(\"The Second Largest Number From The List Is=\", z[-2])"
      ],
      "execution_count": null,
      "outputs": [
        {
          "output_type": "stream",
          "text": [
            "After The Sorting The List Is= [14, 21, 25, 47, 47, 78, 479, 500, 2365]\n",
            "The Second Largest Number From The List Is= 500\n"
          ],
          "name": "stdout"
        }
      ]
    }
  ]
}