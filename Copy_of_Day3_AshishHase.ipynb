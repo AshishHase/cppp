{
  "nbformat": 4,
  "nbformat_minor": 0,
  "metadata": {
    "colab": {
      "name": "Copy of Day3_AshishHase.ipynb",
      "provenance": [],
      "collapsed_sections": [],
      "authorship_tag": "ABX9TyMWXmNX/dsBMaPHjPfJF9E3",
      "include_colab_link": true
    },
    "kernelspec": {
      "name": "python3",
      "display_name": "Python 3"
    }
  },
  "cells": [
    {
      "cell_type": "markdown",
      "metadata": {
        "id": "view-in-github",
        "colab_type": "text"
      },
      "source": [
        "<a href=\"https://colab.research.google.com/github/AshishHase/cppp/blob/master/Copy_of_Day3_AshishHase.ipynb\" target=\"_parent\"><img src=\"https://colab.research.google.com/assets/colab-badge.svg\" alt=\"Open In Colab\"/></a>"
      ]
    },
    {
      "cell_type": "markdown",
      "metadata": {
        "id": "JBgW-hLA8ZE7",
        "colab_type": "text"
      },
      "source": [
        "##Ashish Hase Day-3 Python Assignment"
      ]
    },
    {
      "cell_type": "markdown",
      "metadata": {
        "id": "dudJt7S88kE2",
        "colab_type": "text"
      },
      "source": [
        "Q1)  **Write a Program To Find Minimum Of Three Number Given By User** "
      ]
    },
    {
      "cell_type": "code",
      "metadata": {
        "id": "7OwnGD7g8zPJ",
        "colab_type": "code",
        "colab": {
          "base_uri": "https://localhost:8080/",
          "height": 84
        },
        "outputId": "d53c2ce4-55bf-4904-b70b-55a5ecfd5de0"
      },
      "source": [
        "x = int(input(\"Enter First Number\\t\"))\n",
        "y = int(input(\"Enter Second Number\\t\"))\n",
        "z = int(input(\"Enter Third Number\\t\"))\n",
        "if x<y and x<z:\n",
        "    print(\"The Minimum Or Smallest Num is \", x)\n",
        "else:\n",
        "   if y<x and y<z:\n",
        "        print(\"The Minimum Or Smallest Num is \", y)\n",
        "   else:\n",
        "        print(\"The Minimum Or Smallest Num is= \", z)\n",
        "\n"
      ],
      "execution_count": null,
      "outputs": [
        {
          "output_type": "stream",
          "text": [
            "Enter First Number\t60\n",
            "Enter Second Number\t55\n",
            "Enter Third Number\t489\n",
            "The Minimum Or Smallest Num is  55\n"
          ],
          "name": "stdout"
        }
      ]
    },
    {
      "cell_type": "markdown",
      "metadata": {
        "id": "FlQYOmdaBDV5",
        "colab_type": "text"
      },
      "source": [
        "Q2) **Write a Program To Print Cube Of Number**"
      ]
    },
    {
      "cell_type": "code",
      "metadata": {
        "id": "a_E3NrC_BYCe",
        "colab_type": "code",
        "colab": {
          "base_uri": "https://localhost:8080/",
          "height": 50
        },
        "outputId": "06477a30-26cd-419a-edc9-e17a4b6b75d9"
      },
      "source": [
        "a =int(input(\"Enter The Number\\t\"))\n",
        "z= a*a*a\n",
        "print(\"Cube of given number is=\", z)"
      ],
      "execution_count": null,
      "outputs": [
        {
          "output_type": "stream",
          "text": [
            "Enter The Number\t5\n",
            "Cube of given number is= 125\n"
          ],
          "name": "stdout"
        }
      ]
    },
    {
      "cell_type": "markdown",
      "metadata": {
        "id": "3b8gfsbHB6v6",
        "colab_type": "text"
      },
      "source": [
        "Q3) **Write a program to implement all operator in python**\n"
      ]
    },
    {
      "cell_type": "code",
      "metadata": {
        "id": "AkoZ5j_xCDsX",
        "colab_type": "code",
        "colab": {
          "base_uri": "https://localhost:8080/",
          "height": 101
        },
        "outputId": "fa037488-8c55-439e-afa6-99e0cc85f623"
      },
      "source": [
        "#Arithmatic Operator\n",
        "a = 15\n",
        "b = 13\n",
        "c =a+b                                         #Evaluation of  \"+\" Operator:\n",
        "print(\"Addition Of Given Num is=\", c)\n",
        "z =a-b                                         #Evaluation of  \"-\" Operator:\n",
        "print(\"Substraction of Given Num is=\", z)\n",
        "c =a*b                                         #Evaluation of  \"*\" Operator:\n",
        "print(\"Multipliction Of Given Numn is=\", c)\n",
        "c =a/b                                         #Evaluation of  \"/\" Operator:\n",
        "print(\"Divi Of Given Number Is=\", c)\n",
        "c =a%b                                         #Evaluation of  \"%\" Operator:\n",
        "print(\"Reminder of given div is=\", c)\n",
        "\n"
      ],
      "execution_count": null,
      "outputs": [
        {
          "output_type": "stream",
          "text": [
            "Addition Of Given Num is= 28\n",
            "Substraction of Given Num is= 2\n",
            "Multipliction Of Given Numn is= 195\n",
            "Divi Of Given Number Is= 1.1538461538461537\n",
            "Reminder of given div is= 2\n"
          ],
          "name": "stdout"
        }
      ]
    },
    {
      "cell_type": "code",
      "metadata": {
        "id": "X9nTI6h_EFl1",
        "colab_type": "code",
        "colab": {
          "base_uri": "https://localhost:8080/",
          "height": 151
        },
        "outputId": "06051b7d-d2f9-4193-ba7b-65fab229d12a"
      },
      "source": [
        "#Relational Operator\n",
        "a =int(input(\"Enter The First Number\\t\"))\n",
        "b =int(input(\"Enter the Second Number\\t\"))\n",
        "print(a<b)                                  #Evaluation of  \"Less than\" Operator:\n",
        "print(a>b)                                    #Evaluation of  \"Grater than\" Operator:\n",
        "print(a>=b)                                      #Evaluation of  \"Grater than equal to\" Operator:\n",
        "print(a<=b)                                         #Evaluation of  \"less than equal to\" Operator:\n",
        "print(a==b)                                              #Evaluation of  \"Equal to Equal to\" Operator:\n",
        "print(a!=b)                                                 #Evaluation of  \"not equal to\" Operator:"
      ],
      "execution_count": null,
      "outputs": [
        {
          "output_type": "stream",
          "text": [
            "Enter The First Number\t5\n",
            "Enter the Second Number\t8\n",
            "True\n",
            "False\n",
            "False\n",
            "True\n",
            "False\n",
            "True\n"
          ],
          "name": "stdout"
        }
      ]
    },
    {
      "cell_type": "code",
      "metadata": {
        "id": "n8V2Jp2iFlOv",
        "colab_type": "code",
        "colab": {
          "base_uri": "https://localhost:8080/",
          "height": 101
        },
        "outputId": "da5b4d18-bec9-4c14-ba26-d3579471206c"
      },
      "source": [
        "#Assignment Operator\n",
        "a =50\n",
        "a+=1\n",
        "print(\"After Increment the value of a is=\", a)\n",
        "a-=1\n",
        "print(\"After Decrement the value of a is\", a)\n",
        "a*=2\n",
        "print(\"After Multiply by 2 the value of a is=\", a)\n",
        "a//=2\n",
        "print(\"after divide by 2 the value of a is=\", a)\n",
        "a%=2\n",
        "print(a)"
      ],
      "execution_count": null,
      "outputs": [
        {
          "output_type": "stream",
          "text": [
            "After Increment the value of a is= 51\n",
            "After Decrement the value of a is 50\n",
            "After Multiply by 2 the value of a is= 100\n",
            "after divide by 2 the value of a is= 50\n",
            "0\n"
          ],
          "name": "stdout"
        }
      ]
    },
    {
      "cell_type": "code",
      "metadata": {
        "id": "7s-COMalGvEC",
        "colab_type": "code",
        "colab": {
          "base_uri": "https://localhost:8080/",
          "height": 84
        },
        "outputId": "bfec3261-61b3-4171-a9e9-10f88c54f753"
      },
      "source": [
        "#Logical Operator\n",
        "a =45\n",
        "b =87\n",
        "c =32\n",
        "print(a<b and a<c)    #Evaluation of  \"and\" Operator:\n",
        "print(a<b or c>a)        #Evaluation of  \"or\" Operator:\n",
        "d= a<b\n",
        "print(d)\n",
        "print(not d)                 #Evaluation of  \"not\" Operator:"
      ],
      "execution_count": null,
      "outputs": [
        {
          "output_type": "stream",
          "text": [
            "False\n",
            "True\n",
            "True\n",
            "False\n"
          ],
          "name": "stdout"
        }
      ]
    },
    {
      "cell_type": "code",
      "metadata": {
        "id": "JlUVnfYGHdXS",
        "colab_type": "code",
        "colab": {
          "base_uri": "https://localhost:8080/",
          "height": 84
        },
        "outputId": "bee7ec2c-465f-463e-da0e-050064c9ed3c"
      },
      "source": [
        "#Identity Operator\n",
        "a =69\n",
        "b =32\n",
        "print(a is b)     #Evaluation of  \"is\" Operator:\n",
        "print(a is not b)      #Evaluation of  \"is not\" Operator:\n",
        "c = 12\n",
        "d =12\n",
        "print(c is d)\n",
        "print(c is not d)\n"
      ],
      "execution_count": null,
      "outputs": [
        {
          "output_type": "stream",
          "text": [
            "False\n",
            "True\n",
            "True\n",
            "False\n"
          ],
          "name": "stdout"
        }
      ]
    },
    {
      "cell_type": "code",
      "metadata": {
        "id": "KrKTJL-iH6Xk",
        "colab_type": "code",
        "colab": {
          "base_uri": "https://localhost:8080/",
          "height": 67
        },
        "outputId": "fe2493a1-8ec0-40fc-95ac-87c64e5ed5a2"
      },
      "source": [
        "#Membership Operator\n",
        "a =\"Ashishhase\"\n",
        "b =\"hase\"\n",
        "c =\"xyz\" \n",
        "print(b in a)       #Evaluation of  \"in\" Operator:\n",
        "print(c in a)             #Evaluation of  \"in\" Operator:\n",
        "print(c not in a)             #Evaluation of  \"not in\" Operator:"
      ],
      "execution_count": null,
      "outputs": [
        {
          "output_type": "stream",
          "text": [
            "True\n",
            "False\n",
            "True\n"
          ],
          "name": "stdout"
        }
      ]
    }
  ]
}