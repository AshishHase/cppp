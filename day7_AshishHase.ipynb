{
  "nbformat": 4,
  "nbformat_minor": 0,
  "metadata": {
    "colab": {
      "name": "day7_AshishHase.ipynb",
      "provenance": [],
      "collapsed_sections": [],
      "authorship_tag": "ABX9TyP5/cl6q2coJMtfTmkr0DPM",
      "include_colab_link": true
    },
    "kernelspec": {
      "name": "python3",
      "display_name": "Python 3"
    }
  },
  "cells": [
    {
      "cell_type": "markdown",
      "metadata": {
        "id": "view-in-github",
        "colab_type": "text"
      },
      "source": [
        "<a href=\"https://colab.research.google.com/github/AshishHase/cppp/blob/master/day7_AshishHase.ipynb\" target=\"_parent\"><img src=\"https://colab.research.google.com/assets/colab-badge.svg\" alt=\"Open In Colab\"/></a>"
      ]
    },
    {
      "cell_type": "markdown",
      "metadata": {
        "id": "8X_s9ufvT_3E",
        "colab_type": "text"
      },
      "source": [
        "## Ashish Hase Day 7 Python Assignment"
      ]
    },
    {
      "cell_type": "markdown",
      "metadata": {
        "id": "MCnP5iOCLAjz",
        "colab_type": "text"
      },
      "source": [
        "Q1)**Write a program to implement all type of inheritance**"
      ]
    },
    {
      "cell_type": "code",
      "metadata": {
        "id": "JtXW3s5qAgon",
        "colab_type": "code",
        "colab": {
          "base_uri": "https://localhost:8080/",
          "height": 50
        },
        "outputId": "3f6d36d0-5f51-40a3-aaed-255a126c5b32"
      },
      "source": [
        "#Implementation of single level  Inheritance\n",
        "class parent():\n",
        "  def first(self):\n",
        "    print(\"First function\")\n",
        "\n",
        "class child(parent):\n",
        "  def second(self):\n",
        "    print(\"second function\")\n",
        "\n",
        "ob = child()\n",
        "ob.first()\n",
        "ob.second()"
      ],
      "execution_count": null,
      "outputs": [
        {
          "output_type": "stream",
          "text": [
            "First function\n",
            "second function\n"
          ],
          "name": "stdout"
        }
      ]
    },
    {
      "cell_type": "code",
      "metadata": {
        "id": "T5Rfk0x9Ckcu",
        "colab_type": "code",
        "colab": {
          "base_uri": "https://localhost:8080/",
          "height": 67
        },
        "outputId": "6774bffb-1560-41fc-b1e5-37eb0d26f90c"
      },
      "source": [
        "#Implemntion of Multiple Level Inheritance\n",
        "class parent:\n",
        "  def fun1(self):\n",
        "    print(\"This is first functipon\")\n",
        "\n",
        "class parent2:\n",
        "  def fun2(self):\n",
        "    print(\"This is second function\")\n",
        "\n",
        "class child(parent,parent2):\n",
        "  def fun3(self):\n",
        "     print(\"this is third function\")\n",
        " \n",
        "\n",
        "ob = child()\n",
        "ob.fun1()\n",
        "ob.fun2()\n",
        "ob.fun3()\n",
        "\n"
      ],
      "execution_count": null,
      "outputs": [
        {
          "output_type": "stream",
          "text": [
            "This is first functipon\n",
            "This is second function\n",
            "this is third function\n"
          ],
          "name": "stdout"
        }
      ]
    },
    {
      "cell_type": "code",
      "metadata": {
        "id": "0GgO7HEtGQSu",
        "colab_type": "code",
        "colab": {
          "base_uri": "https://localhost:8080/",
          "height": 67
        },
        "outputId": "c6bebd5a-e5f0-4820-e4a7-d358d8771315"
      },
      "source": [
        "#Multilevel Inheritance\n",
        "class parent:\n",
        "  def fun1(self):\n",
        "    print(\"This Is First Function\")\n",
        "\n",
        "class child(parent):\n",
        "  def fun2(self):\n",
        "    print(\"This is second function\")\n",
        "\n",
        "class child2(child):\n",
        "  def fun3(self):\n",
        "    print(\"This is third function\")\n",
        "\n",
        "ob = child2()\n",
        "ob.fun1()\n",
        "ob.fun2()\n",
        "ob.fun3()\n"
      ],
      "execution_count": null,
      "outputs": [
        {
          "output_type": "stream",
          "text": [
            "This Is First Function\n",
            "This is second function\n",
            "This is third function\n"
          ],
          "name": "stdout"
        }
      ]
    },
    {
      "cell_type": "code",
      "metadata": {
        "id": "vKwSN3JJHNrr",
        "colab_type": "code",
        "colab": {}
      },
      "source": [
        "#Hierarchical Inheritance\n",
        "class parent:\n",
        "  def fun1(self):\n",
        "    print(\"This Is First function\")\n",
        "  \n",
        "class child(parent):\n",
        "  def fun2(self):\n",
        "    print(\"this is second function\")\n",
        "\n",
        "class child2(parent):\n",
        "  def fun3(self):\n",
        "    print(\"this is third function\")\n",
        "\n",
        "ob = child()\n",
        "ob1 = child2()\n",
        "ob.fun1()\n",
        "ob.fun2()"
      ],
      "execution_count": null,
      "outputs": []
    },
    {
      "cell_type": "markdown",
      "metadata": {
        "id": "Xawj6kr5IN_U",
        "colab_type": "text"
      },
      "source": [
        "Q2) **Write a program to implement arithmatic operator using class**\n"
      ]
    },
    {
      "cell_type": "code",
      "metadata": {
        "id": "ONS230TnJEnf",
        "colab_type": "code",
        "colab": {
          "base_uri": "https://localhost:8080/",
          "height": 101
        },
        "outputId": "321d7790-b984-49e2-f4ff-f7ec9e0e21f7"
      },
      "source": [
        "class arithmatic:\n",
        "  def additions1(self):\n",
        "    a = 10\n",
        "    b = 20\n",
        "    c = a+b\n",
        "    print(\"The addition is=\", c)\n",
        "  def substraction(self):\n",
        "    a = 69\n",
        "    b = 30\n",
        "    c = a-b\n",
        "    print(\"substraction is =\", c)\n",
        "  def mul(self):\n",
        "    a = 10\n",
        "    b = 5\n",
        "    c = a*b\n",
        "    print(\"Multipliction is=\", c)\n",
        "  def div(self):\n",
        "    a = 15\n",
        "    b = 3\n",
        "    c = a//b\n",
        "    print(\"sub is=\", c)\n",
        "  def mod(self):\n",
        "    a = 15\n",
        "    b = 3\n",
        "    c = a%b\n",
        "    print(\"Reminder of div is=\", c)\n",
        "\n",
        "ob1 = arithmatic()\n",
        "ob1.additions1()\n",
        "ob1.substraction()\n",
        "ob1.mul()\n",
        "ob1.div()\n",
        "ob1.mod()"
      ],
      "execution_count": null,
      "outputs": [
        {
          "output_type": "stream",
          "text": [
            "The addition is= 30\n",
            "substraction is = 39\n",
            "Multipliction is= 50\n",
            "sub is= 5\n",
            "Reminder of div is= 0\n"
          ],
          "name": "stdout"
        }
      ]
    },
    {
      "cell_type": "markdown",
      "metadata": {
        "id": "FicsDkHVLiJn",
        "colab_type": "text"
      },
      "source": [
        "Q3)**Write a program to implement bank transaction system using class and object**"
      ]
    },
    {
      "cell_type": "code",
      "metadata": {
        "id": "X0Uu2RZRLv1M",
        "colab_type": "code",
        "colab": {
          "base_uri": "https://localhost:8080/",
          "height": 380
        },
        "outputId": "61156be4-1aff-4692-9e9c-077c22960b5f"
      },
      "source": [
        "class bank:\n",
        "  total_amount = 50000\n",
        "  def cash(self):\n",
        "     print(\"The Total amount in Mr.ashish hase's account is\", self.total_amount)\n",
        "\n",
        "\n",
        "class deposite(bank):\n",
        "  def depo(self):\n",
        "     b = int(input(\"Enter The Amount Which you want to deposite to your accoune\"))\n",
        "     Updated_Amount = self.total_amount+b\n",
        "     print(\"After deposite your total amount is\", Updated_Amount)\n",
        "\n",
        "class withdraw(deposite):\n",
        "  def withd(self,Updated_Amount):\n",
        "     a = int(input(\"Enter The Amount Which you want to withdraw\"))\n",
        "     Remaining_amount = self.Updated_Amount-a\n",
        "     print(\"After Withdraw The Total Remaining Amount In Your Account Is=\", Remaining_amount)\n",
        "   \n",
        "\n",
        "ob1 = withdraw()\n",
        "ob1.cash()\n",
        "ob1.depo()\n",
        "ob1.withd()"
      ],
      "execution_count": null,
      "outputs": [
        {
          "output_type": "stream",
          "text": [
            "The Total amount in Mr.ashish hase's account is 50000\n",
            "Enter The Amount Which you want to deposite to your accoune25000\n",
            "After deposite your total amount is 75000\n",
            "Enter The Amount Which you want to withdraw250000\n"
          ],
          "name": "stdout"
        },
        {
          "output_type": "error",
          "ename": "AttributeError",
          "evalue": "ignored",
          "traceback": [
            "\u001b[0;31m---------------------------------------------------------------------------\u001b[0m",
            "\u001b[0;31mAttributeError\u001b[0m                            Traceback (most recent call last)",
            "\u001b[0;32m<ipython-input-43-3e58fe2b3706>\u001b[0m in \u001b[0;36m<module>\u001b[0;34m()\u001b[0m\n\u001b[1;32m     21\u001b[0m \u001b[0mob1\u001b[0m\u001b[0;34m.\u001b[0m\u001b[0mcash\u001b[0m\u001b[0;34m(\u001b[0m\u001b[0;34m)\u001b[0m\u001b[0;34m\u001b[0m\u001b[0;34m\u001b[0m\u001b[0m\n\u001b[1;32m     22\u001b[0m \u001b[0mob1\u001b[0m\u001b[0;34m.\u001b[0m\u001b[0mdepo\u001b[0m\u001b[0;34m(\u001b[0m\u001b[0;34m)\u001b[0m\u001b[0;34m\u001b[0m\u001b[0;34m\u001b[0m\u001b[0m\n\u001b[0;32m---> 23\u001b[0;31m \u001b[0mob1\u001b[0m\u001b[0;34m.\u001b[0m\u001b[0mwithd\u001b[0m\u001b[0;34m(\u001b[0m\u001b[0;36m25000\u001b[0m\u001b[0;34m)\u001b[0m\u001b[0;34m\u001b[0m\u001b[0;34m\u001b[0m\u001b[0m\n\u001b[0m",
            "\u001b[0;32m<ipython-input-43-3e58fe2b3706>\u001b[0m in \u001b[0;36mwithd\u001b[0;34m(self, Updated_Amount)\u001b[0m\n\u001b[1;32m     14\u001b[0m   \u001b[0;32mdef\u001b[0m \u001b[0mwithd\u001b[0m\u001b[0;34m(\u001b[0m\u001b[0mself\u001b[0m\u001b[0;34m,\u001b[0m\u001b[0mUpdated_Amount\u001b[0m\u001b[0;34m)\u001b[0m\u001b[0;34m:\u001b[0m\u001b[0;34m\u001b[0m\u001b[0;34m\u001b[0m\u001b[0m\n\u001b[1;32m     15\u001b[0m      \u001b[0ma\u001b[0m \u001b[0;34m=\u001b[0m \u001b[0mint\u001b[0m\u001b[0;34m(\u001b[0m\u001b[0minput\u001b[0m\u001b[0;34m(\u001b[0m\u001b[0;34m\"Enter The Amount Which you want to withdraw\"\u001b[0m\u001b[0;34m)\u001b[0m\u001b[0;34m)\u001b[0m\u001b[0;34m\u001b[0m\u001b[0;34m\u001b[0m\u001b[0m\n\u001b[0;32m---> 16\u001b[0;31m      \u001b[0mRemaining_amount\u001b[0m \u001b[0;34m=\u001b[0m \u001b[0mself\u001b[0m\u001b[0;34m.\u001b[0m\u001b[0mUpdated_Amount\u001b[0m\u001b[0;34m-\u001b[0m\u001b[0ma\u001b[0m\u001b[0;34m\u001b[0m\u001b[0;34m\u001b[0m\u001b[0m\n\u001b[0m\u001b[1;32m     17\u001b[0m      \u001b[0mprint\u001b[0m\u001b[0;34m(\u001b[0m\u001b[0;34m\"After Withdraw The Total Remaining Amount In Your Account Is=\"\u001b[0m\u001b[0;34m,\u001b[0m \u001b[0mRemaining_amount\u001b[0m\u001b[0;34m)\u001b[0m\u001b[0;34m\u001b[0m\u001b[0;34m\u001b[0m\u001b[0m\n\u001b[1;32m     18\u001b[0m \u001b[0;34m\u001b[0m\u001b[0m\n",
            "\u001b[0;31mAttributeError\u001b[0m: 'withdraw' object has no attribute 'Updated_Amount'"
          ]
        }
      ]
    }
  ]
}