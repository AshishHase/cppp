{
  "nbformat": 4,
  "nbformat_minor": 0,
  "metadata": {
    "colab": {
      "name": "Copy of Day3Assignment_AshishHase.ipynb",
      "provenance": [],
      "collapsed_sections": [],
      "authorship_tag": "ABX9TyO+HXwTXFbxW9U0jjBMk9gy",
      "include_colab_link": true
    },
    "kernelspec": {
      "name": "python3",
      "display_name": "Python 3"
    }
  },
  "cells": [
    {
      "cell_type": "markdown",
      "metadata": {
        "id": "view-in-github",
        "colab_type": "text"
      },
      "source": [
        "<a href=\"https://colab.research.google.com/github/AshishHase/cppp/blob/master/Copy_of_Day3Assignment_AshishHase.ipynb\" target=\"_parent\"><img src=\"https://colab.research.google.com/assets/colab-badge.svg\" alt=\"Open In Colab\"/></a>"
      ]
    },
    {
      "cell_type": "code",
      "metadata": {
        "id": "1dz5tkJGqd24",
        "colab_type": "code",
        "colab": {}
      },
      "source": [
        ""
      ],
      "execution_count": null,
      "outputs": []
    },
    {
      "cell_type": "markdown",
      "metadata": {
        "id": "p3MTb2BcqoUs",
        "colab_type": "text"
      },
      "source": [
        "Q1) **Write a Program TO Find Maximum Of Three Number Given By User**"
      ]
    },
    {
      "cell_type": "code",
      "metadata": {
        "id": "Cs55OziirBo_",
        "colab_type": "code",
        "colab": {}
      },
      "source": [
        "a=int(input(\"Enter First Number\"))\n",
        "b=int(input(\"Enter Second Number\"))\n",
        "c=int(input(\"Enter Third Number\"))\n",
        "if(a>b and a>c):\n",
        "  print(\"A is Grater\")\n",
        "elif(b>a and b>c):\n",
        "     print(\"B is Grater\")\n",
        "else:\n",
        "      print(\"C is grater\")\n",
        "      "
      ],
      "execution_count": null,
      "outputs": []
    },
    {
      "cell_type": "markdown",
      "metadata": {
        "id": "zVyw1LI9ssrl",
        "colab_type": "text"
      },
      "source": [
        "Q2) **Write a Program To Check Given Number Is Prime Or Not**"
      ]
    },
    {
      "cell_type": "code",
      "metadata": {
        "id": "TN3076wks-fz",
        "colab_type": "code",
        "colab": {}
      },
      "source": [
        "num=int(input(\"Enter The Number To Check Wether Prime\"))\n",
        "i=2\n",
        "while i<num:\n",
        "   if(num%i==0):\n",
        "     i+=1\n",
        "   print(\"prime\")\n",
        "else:\n",
        "  print(\"not prime\")"
      ],
      "execution_count": null,
      "outputs": []
    },
    {
      "cell_type": "markdown",
      "metadata": {
        "id": "droHIcIOyOUE",
        "colab_type": "text"
      },
      "source": [
        "Q3) **Write a Program To Print Given Pattern**"
      ]
    },
    {
      "cell_type": "code",
      "metadata": {
        "id": "WqzSr0_pyc3e",
        "colab_type": "code",
        "colab": {
          "base_uri": "https://localhost:8080/",
          "height": 102
        },
        "outputId": "b29adf60-f6c3-4225-d7d6-fd97810d760b"
      },
      "source": [
        "for i in range (1,6):\n",
        "    print(\"*\" *i)"
      ],
      "execution_count": null,
      "outputs": [
        {
          "output_type": "stream",
          "text": [
            "*\n",
            "**\n",
            "***\n",
            "****\n",
            "*****\n"
          ],
          "name": "stdout"
        }
      ]
    }
  ]
}