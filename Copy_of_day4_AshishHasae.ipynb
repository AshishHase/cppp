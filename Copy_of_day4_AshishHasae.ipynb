{
  "nbformat": 4,
  "nbformat_minor": 0,
  "metadata": {
    "colab": {
      "name": "Copy of day4_AshishHasae.ipynb",
      "provenance": [],
      "authorship_tag": "ABX9TyMB/kgtzMTdASotDC6mN4Io",
      "include_colab_link": true
    },
    "kernelspec": {
      "name": "python3",
      "display_name": "Python 3"
    }
  },
  "cells": [
    {
      "cell_type": "markdown",
      "metadata": {
        "id": "view-in-github",
        "colab_type": "text"
      },
      "source": [
        "<a href=\"https://colab.research.google.com/github/AshishHase/cppp/blob/master/Copy_of_day4_AshishHasae.ipynb\" target=\"_parent\"><img src=\"https://colab.research.google.com/assets/colab-badge.svg\" alt=\"Open In Colab\"/></a>"
      ]
    },
    {
      "cell_type": "markdown",
      "metadata": {
        "id": "teEtdQaItyUd",
        "colab_type": "text"
      },
      "source": [
        "Q1) **Write a Program TO Implement All String Handling Functions**"
      ]
    },
    {
      "cell_type": "code",
      "metadata": {
        "id": "bXVNKSla1vDS",
        "colab_type": "code",
        "colab": {}
      },
      "source": [
        ""
      ],
      "execution_count": null,
      "outputs": []
    },
    {
      "cell_type": "code",
      "metadata": {
        "id": "ihu9nmUiuLUL",
        "colab_type": "code",
        "colab": {}
      },
      "source": [
        "a=\"ashish\"\n",
        "print(len(a))  #find length of string\n",
        "print(a.index('i'))  #Find the index position of perticular character\n",
        "print(a.count('h')) #Find how many time the given character is comes in string\n",
        "print(a.upper()) #convert given string into upper case\n",
        "print(a.lower())  #convert given string into lower case\n",
        "print(a.startswith(\"ash\")) #check wether given string is start with perticular sub_string or not\n",
        "print(a.endswith(\"sh\"))   #check wether given string is ends with perticular sub_string or not\n",
        "print(a.split('h'))    #devide the given string\n",
        "\n"
      ],
      "execution_count": null,
      "outputs": []
    },
    {
      "cell_type": "markdown",
      "metadata": {
        "id": "rVX5ifdqwfis",
        "colab_type": "text"
      },
      "source": [
        "Q2) **Write a Program TO Implement All List handling Function**"
      ]
    },
    {
      "cell_type": "code",
      "metadata": {
        "id": "w9e0E6qFw6PQ",
        "colab_type": "code",
        "colab": {}
      },
      "source": [
        "b=['ashish',1,2,2.5,True]\n",
        "b.append(\"hase\") #add the given value at end of the list\n",
        "print(b)\n",
        "b.insert(2,'manesh') #insert the element at any given index position\n",
        "print(b)\n",
        "c=[1,2,10,4,3,8,22]\n",
        "print(max(c)) #find maximum number in given string\n",
        "print(min(c)) #find minimum number in given string\n",
        "print(sum(c)) #find sum of all the list number\n",
        "print(sorted(c)) #sort the given list\n",
        "c.reverse() #reverce the sequece of given list\n",
        "print(c)\n",
        "c.remove(22)\n",
        "print(c) #remove perticular element \n",
        "c.pop() #pop last element from the list\n",
        "print(c)\n"
      ],
      "execution_count": null,
      "outputs": []
    }
  ]
}