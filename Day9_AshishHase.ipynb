{
  "nbformat": 4,
  "nbformat_minor": 0,
  "metadata": {
    "colab": {
      "name": "Day9_AshishHase.ipynb",
      "provenance": [],
      "collapsed_sections": [],
      "authorship_tag": "ABX9TyN1gQlFWXAg1sM1kcDBBh4r",
      "include_colab_link": true
    },
    "kernelspec": {
      "name": "python3",
      "display_name": "Python 3"
    }
  },
  "cells": [
    {
      "cell_type": "markdown",
      "metadata": {
        "id": "view-in-github",
        "colab_type": "text"
      },
      "source": [
        "<a href=\"https://colab.research.google.com/github/AshishHase/cppp/blob/master/Day9_AshishHase.ipynb\" target=\"_parent\"><img src=\"https://colab.research.google.com/assets/colab-badge.svg\" alt=\"Open In Colab\"/></a>"
      ]
    },
    {
      "cell_type": "markdown",
      "metadata": {
        "id": "G2C2ZKGhTfxA",
        "colab_type": "text"
      },
      "source": [
        "##Ashish Hase Day 9 Assignment of Python"
      ]
    },
    {
      "cell_type": "markdown",
      "metadata": {
        "id": "p9N1nXW8T37W",
        "colab_type": "text"
      },
      "source": [
        "Q1)**Write a program to implement all the mothod of importing a modules ?**"
      ]
    },
    {
      "cell_type": "code",
      "metadata": {
        "id": "oUrpsLr7ULns",
        "colab_type": "code",
        "colab": {
          "base_uri": "https://localhost:8080/",
          "height": 34
        },
        "outputId": "81562cd5-8040-45cd-ea5d-de02daf07683"
      },
      "source": [
        "##First method to import module\n",
        "\n",
        "import math     #first method\n",
        "x = 10\n",
        "print(math.factorial(x))\n"
      ],
      "execution_count": 9,
      "outputs": [
        {
          "output_type": "stream",
          "text": [
            "3628800\n"
          ],
          "name": "stdout"
        }
      ]
    },
    {
      "cell_type": "code",
      "metadata": {
        "id": "u-BpyvglXtfh",
        "colab_type": "code",
        "colab": {
          "base_uri": "https://localhost:8080/",
          "height": 34
        },
        "outputId": "372ebd57-9aa2-4e32-a8b9-9e17b09bf27b"
      },
      "source": [
        "#Second method of importing a module\n",
        "\n",
        "import math as m\n",
        "x = 100\n",
        "print(m.sqrt(x))"
      ],
      "execution_count": 10,
      "outputs": [
        {
          "output_type": "stream",
          "text": [
            "10.0\n"
          ],
          "name": "stdout"
        }
      ]
    },
    {
      "cell_type": "code",
      "metadata": {
        "id": "CDtAx3uuX-Dg",
        "colab_type": "code",
        "colab": {
          "base_uri": "https://localhost:8080/",
          "height": 34
        },
        "outputId": "8ad9a917-baa3-48e5-e89c-b3224b4252c2"
      },
      "source": [
        "#Third method of importing a module\n",
        " \n",
        "from  math import*\n",
        "\n",
        "x = 360\n",
        "print(degrees(x))"
      ],
      "execution_count": 11,
      "outputs": [
        {
          "output_type": "stream",
          "text": [
            "20626.480624709635\n"
          ],
          "name": "stdout"
        }
      ]
    },
    {
      "cell_type": "markdown",
      "metadata": {
        "id": "3Ie9zhGlYZV_",
        "colab_type": "text"
      },
      "source": [
        "Q2)**Write a program to find random number using module**"
      ]
    },
    {
      "cell_type": "code",
      "metadata": {
        "id": "zn4ZEPYtY_Qj",
        "colab_type": "code",
        "colab": {}
      },
      "source": [
        "import random\n",
        "for i in range(10):\n",
        "  print(random.randint(1,9))\n",
        "  \n",
        " "
      ],
      "execution_count": null,
      "outputs": []
    },
    {
      "cell_type": "code",
      "metadata": {
        "id": "2LkiJvqRebdL",
        "colab_type": "code",
        "colab": {
          "base_uri": "https://localhost:8080/",
          "height": 34
        },
        "outputId": "574158eb-ac46-468c-9fd2-3bc150f4cc7b"
      },
      "source": [
        ""
      ],
      "execution_count": 23,
      "outputs": [
        {
          "output_type": "stream",
          "text": [
            "0.5693241592154243\n"
          ],
          "name": "stdout"
        }
      ]
    }
  ]
}